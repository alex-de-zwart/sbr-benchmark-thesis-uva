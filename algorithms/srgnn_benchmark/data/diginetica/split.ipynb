{
 "cells": [
  {
   "cell_type": "code",
   "execution_count": 1,
   "id": "332872f9",
   "metadata": {},
   "outputs": [],
   "source": [
    "import pandas as pd\n",
    "import pickle\n",
    "import numpy as np"
   ]
  },
  {
   "cell_type": "code",
   "execution_count": 2,
   "id": "78e4dcd6",
   "metadata": {},
   "outputs": [],
   "source": [
    "#create static validation set code from original sr-gnn repo 10% random subset for validation\n",
    "\n",
    "def split_validation(train_set, valid_portion):\n",
    "    train_set_x, train_set_y = train_set\n",
    "    n_samples = len(train_set_x)\n",
    "    sidx = np.arange(n_samples, dtype='int32')\n",
    "    np.random.shuffle(sidx)\n",
    "    n_train = int(np.round(n_samples * (1. - valid_portion)))\n",
    "    valid_set_x = [train_set_x[s] for s in sidx[n_train:]]\n",
    "    valid_set_y = [train_set_y[s] for s in sidx[n_train:]]\n",
    "    train_set_x = [train_set_x[s] for s in sidx[:n_train]]\n",
    "    train_set_y = [train_set_y[s] for s in sidx[:n_train]]\n",
    "\n",
    "    return (train_set_x, train_set_y), (valid_set_x, valid_set_y)"
   ]
  },
  {
   "cell_type": "code",
   "execution_count": 3,
   "id": "afa06c81",
   "metadata": {},
   "outputs": [],
   "source": [
    "train = pickle.load(open('/home/ec2-user/SageMaker/sb-rec-system/algorithms/srgnn_benchmark/data/yoochoose1_64/raw/train.txt', 'rb'))"
   ]
  },
  {
   "cell_type": "code",
   "execution_count": 4,
   "id": "dc0485b9",
   "metadata": {},
   "outputs": [],
   "source": [
    "train, validate = split_validation(train, 0.10)"
   ]
  },
  {
   "cell_type": "code",
   "execution_count": 5,
   "id": "f4afb82f",
   "metadata": {},
   "outputs": [],
   "source": [
    "pickle.dump(train, open('/home/ec2-user/SageMaker/sb-rec-system/algorithms/srgnn_benchmark/data/yoochoose1_64/raw/train_tr.txt', 'wb'))"
   ]
  },
  {
   "cell_type": "code",
   "execution_count": 6,
   "id": "f94864e2",
   "metadata": {},
   "outputs": [],
   "source": [
    "pickle.dump(validate, open('/home/ec2-user/SageMaker/sb-rec-system/algorithms/srgnn_benchmark/data/yoochoose1_64/raw/train_valid.txt', 'wb'))"
   ]
  }
 ],
 "metadata": {
  "kernelspec": {
   "display_name": "conda_python3",
   "language": "python",
   "name": "conda_python3"
  },
  "language_info": {
   "codemirror_mode": {
    "name": "ipython",
    "version": 3
   },
   "file_extension": ".py",
   "mimetype": "text/x-python",
   "name": "python",
   "nbconvert_exporter": "python",
   "pygments_lexer": "ipython3",
   "version": "3.6.13"
  }
 },
 "nbformat": 4,
 "nbformat_minor": 5
}
