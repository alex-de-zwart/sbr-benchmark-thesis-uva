{
 "cells": [
  {
   "cell_type": "code",
   "execution_count": 1,
   "id": "5b5ddcaa",
   "metadata": {},
   "outputs": [],
   "source": [
    "import sys"
   ]
  },
  {
   "cell_type": "code",
   "execution_count": 2,
   "id": "4f38129b",
   "metadata": {},
   "outputs": [
    {
     "name": "stdout",
     "output_type": "stream",
     "text": [
      "Requirement already satisfied: torch in /home/ec2-user/anaconda3/envs/python3/lib/python3.6/site-packages (1.10.2)\n",
      "Requirement already satisfied: typing-extensions in /home/ec2-user/anaconda3/envs/python3/lib/python3.6/site-packages (from torch) (4.0.1)\n",
      "Requirement already satisfied: dataclasses in /home/ec2-user/anaconda3/envs/python3/lib/python3.6/site-packages (from torch) (0.8)\n",
      "Looking in links: https://data.pyg.org/whl/torch-1.10.2+cu102.html\n",
      "Requirement already satisfied: torch-scatter in /home/ec2-user/anaconda3/envs/python3/lib/python3.6/site-packages (2.0.9)\n",
      "Looking in links: https://data.pyg.org/whl/torch-1.10.2+cu102.html\n",
      "Requirement already satisfied: torch-sparse in /home/ec2-user/anaconda3/envs/python3/lib/python3.6/site-packages (0.6.12)\n",
      "Requirement already satisfied: scipy in /home/ec2-user/anaconda3/envs/python3/lib/python3.6/site-packages (from torch-sparse) (1.5.3)\n",
      "Requirement already satisfied: numpy>=1.14.5 in /home/ec2-user/anaconda3/envs/python3/lib/python3.6/site-packages (from scipy->torch-sparse) (1.19.5)\n",
      "Requirement already satisfied: torch-geometric in /home/ec2-user/anaconda3/envs/python3/lib/python3.6/site-packages (2.0.3)\n",
      "Requirement already satisfied: yacs in /home/ec2-user/anaconda3/envs/python3/lib/python3.6/site-packages (from torch-geometric) (0.1.8)\n",
      "Requirement already satisfied: networkx in /home/ec2-user/anaconda3/envs/python3/lib/python3.6/site-packages (from torch-geometric) (2.5)\n",
      "Requirement already satisfied: jinja2 in /home/ec2-user/anaconda3/envs/python3/lib/python3.6/site-packages (from torch-geometric) (2.11.3)\n",
      "Requirement already satisfied: scikit-learn in /home/ec2-user/anaconda3/envs/python3/lib/python3.6/site-packages (from torch-geometric) (0.24.1)\n",
      "Requirement already satisfied: requests in /home/ec2-user/anaconda3/envs/python3/lib/python3.6/site-packages (from torch-geometric) (2.26.0)\n",
      "Requirement already satisfied: googledrivedownloader in /home/ec2-user/anaconda3/envs/python3/lib/python3.6/site-packages (from torch-geometric) (0.4)\n",
      "Requirement already satisfied: tqdm in /home/ec2-user/anaconda3/envs/python3/lib/python3.6/site-packages (from torch-geometric) (4.62.3)\n",
      "Requirement already satisfied: rdflib in /home/ec2-user/anaconda3/envs/python3/lib/python3.6/site-packages (from torch-geometric) (5.0.0)\n",
      "Requirement already satisfied: pandas in /home/ec2-user/anaconda3/envs/python3/lib/python3.6/site-packages (from torch-geometric) (1.1.5)\n",
      "Requirement already satisfied: scipy in /home/ec2-user/anaconda3/envs/python3/lib/python3.6/site-packages (from torch-geometric) (1.5.3)\n",
      "Requirement already satisfied: pyparsing in /home/ec2-user/anaconda3/envs/python3/lib/python3.6/site-packages (from torch-geometric) (2.4.7)\n",
      "Requirement already satisfied: numpy in /home/ec2-user/anaconda3/envs/python3/lib/python3.6/site-packages (from torch-geometric) (1.19.5)\n",
      "Requirement already satisfied: PyYAML in /home/ec2-user/anaconda3/envs/python3/lib/python3.6/site-packages (from torch-geometric) (5.4.1)\n",
      "Requirement already satisfied: MarkupSafe>=0.23 in /home/ec2-user/anaconda3/envs/python3/lib/python3.6/site-packages (from jinja2->torch-geometric) (1.1.1)\n",
      "Requirement already satisfied: decorator>=4.3.0 in /home/ec2-user/anaconda3/envs/python3/lib/python3.6/site-packages (from networkx->torch-geometric) (4.4.2)\n",
      "Requirement already satisfied: python-dateutil>=2.7.3 in /home/ec2-user/anaconda3/envs/python3/lib/python3.6/site-packages (from pandas->torch-geometric) (2.8.1)\n",
      "Requirement already satisfied: pytz>=2017.2 in /home/ec2-user/anaconda3/envs/python3/lib/python3.6/site-packages (from pandas->torch-geometric) (2021.1)\n",
      "Requirement already satisfied: isodate in /home/ec2-user/anaconda3/envs/python3/lib/python3.6/site-packages (from rdflib->torch-geometric) (0.6.1)\n",
      "Requirement already satisfied: six in /home/ec2-user/anaconda3/envs/python3/lib/python3.6/site-packages (from rdflib->torch-geometric) (1.15.0)\n",
      "Requirement already satisfied: charset-normalizer~=2.0.0 in /home/ec2-user/anaconda3/envs/python3/lib/python3.6/site-packages (from requests->torch-geometric) (2.0.9)\n",
      "Requirement already satisfied: idna<4,>=2.5 in /home/ec2-user/anaconda3/envs/python3/lib/python3.6/site-packages (from requests->torch-geometric) (3.1)\n",
      "Requirement already satisfied: certifi>=2017.4.17 in /home/ec2-user/anaconda3/envs/python3/lib/python3.6/site-packages (from requests->torch-geometric) (2021.5.30)\n",
      "Requirement already satisfied: urllib3<1.27,>=1.21.1 in /home/ec2-user/anaconda3/envs/python3/lib/python3.6/site-packages (from requests->torch-geometric) (1.26.8)\n",
      "Requirement already satisfied: joblib>=0.11 in /home/ec2-user/anaconda3/envs/python3/lib/python3.6/site-packages (from scikit-learn->torch-geometric) (1.0.1)\n",
      "Requirement already satisfied: threadpoolctl>=2.0.0 in /home/ec2-user/anaconda3/envs/python3/lib/python3.6/site-packages (from scikit-learn->torch-geometric) (2.1.0)\n",
      "Requirement already satisfied: ray in /home/ec2-user/anaconda3/envs/python3/lib/python3.6/site-packages (1.13.0)\n",
      "Requirement already satisfied: virtualenv in /home/ec2-user/anaconda3/envs/python3/lib/python3.6/site-packages (from ray) (20.14.1)\n",
      "Requirement already satisfied: click<=8.0.4,>=7.0 in /home/ec2-user/anaconda3/envs/python3/lib/python3.6/site-packages (from ray) (7.1.2)\n",
      "Requirement already satisfied: jsonschema in /home/ec2-user/anaconda3/envs/python3/lib/python3.6/site-packages (from ray) (3.2.0)\n",
      "Requirement already satisfied: grpcio<=1.43.0,>=1.28.1 in /home/ec2-user/anaconda3/envs/python3/lib/python3.6/site-packages (from ray) (1.43.0)\n",
      "Requirement already satisfied: protobuf<4.0.0,>=3.15.3 in /home/ec2-user/anaconda3/envs/python3/lib/python3.6/site-packages (from ray) (3.19.4)\n",
      "Requirement already satisfied: aiosignal in /home/ec2-user/anaconda3/envs/python3/lib/python3.6/site-packages (from ray) (1.2.0)\n",
      "Requirement already satisfied: frozenlist in /home/ec2-user/anaconda3/envs/python3/lib/python3.6/site-packages (from ray) (1.2.0)\n",
      "Requirement already satisfied: dataclasses in /home/ec2-user/anaconda3/envs/python3/lib/python3.6/site-packages (from ray) (0.8)\n",
      "Requirement already satisfied: filelock in /home/ec2-user/anaconda3/envs/python3/lib/python3.6/site-packages (from ray) (3.4.1)\n",
      "Requirement already satisfied: msgpack<2.0.0,>=1.0.0 in /home/ec2-user/anaconda3/envs/python3/lib/python3.6/site-packages (from ray) (1.0.2)\n",
      "Requirement already satisfied: pyyaml in /home/ec2-user/anaconda3/envs/python3/lib/python3.6/site-packages (from ray) (5.4.1)\n",
      "Requirement already satisfied: requests in /home/ec2-user/anaconda3/envs/python3/lib/python3.6/site-packages (from ray) (2.26.0)\n",
      "Requirement already satisfied: numpy>=1.16 in /home/ec2-user/anaconda3/envs/python3/lib/python3.6/site-packages (from ray) (1.19.5)\n",
      "Requirement already satisfied: attrs in /home/ec2-user/anaconda3/envs/python3/lib/python3.6/site-packages (from ray) (20.3.0)\n",
      "Requirement already satisfied: six>=1.5.2 in /home/ec2-user/anaconda3/envs/python3/lib/python3.6/site-packages (from grpcio<=1.43.0,>=1.28.1->ray) (1.15.0)\n",
      "Requirement already satisfied: importlib-metadata in /home/ec2-user/anaconda3/envs/python3/lib/python3.6/site-packages (from jsonschema->ray) (3.7.0)\n",
      "Requirement already satisfied: pyrsistent>=0.14.0 in /home/ec2-user/anaconda3/envs/python3/lib/python3.6/site-packages (from jsonschema->ray) (0.17.3)\n",
      "Requirement already satisfied: setuptools in /home/ec2-user/anaconda3/envs/python3/lib/python3.6/site-packages (from jsonschema->ray) (49.6.0.post20210108)\n",
      "Requirement already satisfied: urllib3<1.27,>=1.21.1 in /home/ec2-user/anaconda3/envs/python3/lib/python3.6/site-packages (from requests->ray) (1.26.8)\n",
      "Requirement already satisfied: idna<4,>=2.5 in /home/ec2-user/anaconda3/envs/python3/lib/python3.6/site-packages (from requests->ray) (3.1)\n",
      "Requirement already satisfied: certifi>=2017.4.17 in /home/ec2-user/anaconda3/envs/python3/lib/python3.6/site-packages (from requests->ray) (2021.5.30)\n",
      "Requirement already satisfied: charset-normalizer~=2.0.0 in /home/ec2-user/anaconda3/envs/python3/lib/python3.6/site-packages (from requests->ray) (2.0.9)\n",
      "Requirement already satisfied: platformdirs<3,>=2 in /home/ec2-user/anaconda3/envs/python3/lib/python3.6/site-packages (from virtualenv->ray) (2.4.0)\n",
      "Requirement already satisfied: importlib-resources>=1.0 in /home/ec2-user/anaconda3/envs/python3/lib/python3.6/site-packages (from virtualenv->ray) (5.4.0)\n",
      "Requirement already satisfied: distlib<1,>=0.3.1 in /home/ec2-user/anaconda3/envs/python3/lib/python3.6/site-packages (from virtualenv->ray) (0.3.4)\n",
      "Requirement already satisfied: zipp>=0.5 in /home/ec2-user/anaconda3/envs/python3/lib/python3.6/site-packages (from importlib-metadata->jsonschema->ray) (3.4.0)\n",
      "Requirement already satisfied: typing-extensions>=3.6.4 in /home/ec2-user/anaconda3/envs/python3/lib/python3.6/site-packages (from importlib-metadata->jsonschema->ray) (4.0.1)\n"
     ]
    },
    {
     "name": "stdout",
     "output_type": "stream",
     "text": [
      "Requirement already satisfied: ray[tune] in /home/ec2-user/anaconda3/envs/python3/lib/python3.6/site-packages (1.13.0)\n",
      "Requirement already satisfied: grpcio<=1.43.0,>=1.28.1 in /home/ec2-user/anaconda3/envs/python3/lib/python3.6/site-packages (from ray[tune]) (1.43.0)\n",
      "Requirement already satisfied: numpy>=1.16 in /home/ec2-user/anaconda3/envs/python3/lib/python3.6/site-packages (from ray[tune]) (1.19.5)\n",
      "Requirement already satisfied: dataclasses in /home/ec2-user/anaconda3/envs/python3/lib/python3.6/site-packages (from ray[tune]) (0.8)\n",
      "Requirement already satisfied: frozenlist in /home/ec2-user/anaconda3/envs/python3/lib/python3.6/site-packages (from ray[tune]) (1.2.0)\n",
      "Requirement already satisfied: msgpack<2.0.0,>=1.0.0 in /home/ec2-user/anaconda3/envs/python3/lib/python3.6/site-packages (from ray[tune]) (1.0.2)\n",
      "Requirement already satisfied: virtualenv in /home/ec2-user/anaconda3/envs/python3/lib/python3.6/site-packages (from ray[tune]) (20.14.1)\n",
      "Requirement already satisfied: protobuf<4.0.0,>=3.15.3 in /home/ec2-user/anaconda3/envs/python3/lib/python3.6/site-packages (from ray[tune]) (3.19.4)\n",
      "Requirement already satisfied: pyyaml in /home/ec2-user/anaconda3/envs/python3/lib/python3.6/site-packages (from ray[tune]) (5.4.1)\n",
      "Requirement already satisfied: requests in /home/ec2-user/anaconda3/envs/python3/lib/python3.6/site-packages (from ray[tune]) (2.26.0)\n",
      "Requirement already satisfied: click<=8.0.4,>=7.0 in /home/ec2-user/anaconda3/envs/python3/lib/python3.6/site-packages (from ray[tune]) (7.1.2)\n",
      "Requirement already satisfied: aiosignal in /home/ec2-user/anaconda3/envs/python3/lib/python3.6/site-packages (from ray[tune]) (1.2.0)\n",
      "Requirement already satisfied: attrs in /home/ec2-user/anaconda3/envs/python3/lib/python3.6/site-packages (from ray[tune]) (20.3.0)\n",
      "Requirement already satisfied: filelock in /home/ec2-user/anaconda3/envs/python3/lib/python3.6/site-packages (from ray[tune]) (3.4.1)\n",
      "Requirement already satisfied: jsonschema in /home/ec2-user/anaconda3/envs/python3/lib/python3.6/site-packages (from ray[tune]) (3.2.0)\n",
      "Requirement already satisfied: tensorboardX>=1.9 in /home/ec2-user/anaconda3/envs/python3/lib/python3.6/site-packages (from ray[tune]) (2.5.1)\n",
      "Requirement already satisfied: pandas in /home/ec2-user/anaconda3/envs/python3/lib/python3.6/site-packages (from ray[tune]) (1.1.5)\n",
      "Requirement already satisfied: tabulate in /home/ec2-user/anaconda3/envs/python3/lib/python3.6/site-packages (from ray[tune]) (0.8.9)\n",
      "Requirement already satisfied: six>=1.5.2 in /home/ec2-user/anaconda3/envs/python3/lib/python3.6/site-packages (from grpcio<=1.43.0,>=1.28.1->ray[tune]) (1.15.0)\n",
      "Requirement already satisfied: importlib-metadata in /home/ec2-user/anaconda3/envs/python3/lib/python3.6/site-packages (from jsonschema->ray[tune]) (3.7.0)\n",
      "Requirement already satisfied: pyrsistent>=0.14.0 in /home/ec2-user/anaconda3/envs/python3/lib/python3.6/site-packages (from jsonschema->ray[tune]) (0.17.3)\n",
      "Requirement already satisfied: setuptools in /home/ec2-user/anaconda3/envs/python3/lib/python3.6/site-packages (from jsonschema->ray[tune]) (49.6.0.post20210108)\n",
      "Requirement already satisfied: python-dateutil>=2.7.3 in /home/ec2-user/anaconda3/envs/python3/lib/python3.6/site-packages (from pandas->ray[tune]) (2.8.1)\n",
      "Requirement already satisfied: pytz>=2017.2 in /home/ec2-user/anaconda3/envs/python3/lib/python3.6/site-packages (from pandas->ray[tune]) (2021.1)\n",
      "Requirement already satisfied: certifi>=2017.4.17 in /home/ec2-user/anaconda3/envs/python3/lib/python3.6/site-packages (from requests->ray[tune]) (2021.5.30)\n",
      "Requirement already satisfied: charset-normalizer~=2.0.0 in /home/ec2-user/anaconda3/envs/python3/lib/python3.6/site-packages (from requests->ray[tune]) (2.0.9)\n",
      "Requirement already satisfied: urllib3<1.27,>=1.21.1 in /home/ec2-user/anaconda3/envs/python3/lib/python3.6/site-packages (from requests->ray[tune]) (1.26.8)\n",
      "Requirement already satisfied: idna<4,>=2.5 in /home/ec2-user/anaconda3/envs/python3/lib/python3.6/site-packages (from requests->ray[tune]) (3.1)\n",
      "Requirement already satisfied: platformdirs<3,>=2 in /home/ec2-user/anaconda3/envs/python3/lib/python3.6/site-packages (from virtualenv->ray[tune]) (2.4.0)\n",
      "Requirement already satisfied: distlib<1,>=0.3.1 in /home/ec2-user/anaconda3/envs/python3/lib/python3.6/site-packages (from virtualenv->ray[tune]) (0.3.4)\n",
      "Requirement already satisfied: importlib-resources>=1.0 in /home/ec2-user/anaconda3/envs/python3/lib/python3.6/site-packages (from virtualenv->ray[tune]) (5.4.0)\n",
      "Requirement already satisfied: typing-extensions>=3.6.4 in /home/ec2-user/anaconda3/envs/python3/lib/python3.6/site-packages (from importlib-metadata->jsonschema->ray[tune]) (4.0.1)\n",
      "Requirement already satisfied: zipp>=0.5 in /home/ec2-user/anaconda3/envs/python3/lib/python3.6/site-packages (from importlib-metadata->jsonschema->ray[tune]) (3.4.0)\n"
     ]
    }
   ],
   "source": [
    "!{sys.executable} -m pip install torch\n",
    "!{sys.executable} -m pip install torch-scatter -f https://data.pyg.org/whl/torch-1.10.2+cu102.html\n",
    "!{sys.executable} -m pip install torch-sparse -f https://data.pyg.org/whl/torch-1.10.2+cu102.html\n",
    "!{sys.executable} -m pip install torch-geometric\n",
    "!{sys.executable} -m pip install ray\n",
    "!{sys.executable} -m pip install \"ray[tune]\"\n",
    "!{sys.executable} -m pip install -Uqq ipdb"
   ]
  },
  {
   "cell_type": "code",
   "execution_count": 3,
   "id": "6f6144fb",
   "metadata": {},
   "outputs": [],
   "source": [
    "module_path = \"/home/ec2-user/SageMaker/sb-rec-system\"\n",
    "if module_path not in sys.path:\n",
    "    sys.path.append(module_path)\n",
    "\n",
    "from algorithms.srgnn_benchmark.srgnn.model import *\n",
    "import ipdb\n",
    "import matplotlib.pyplot as plt"
   ]
  },
  {
   "cell_type": "code",
   "execution_count": 4,
   "id": "c4de5c59",
   "metadata": {},
   "outputs": [],
   "source": [
    "def train(config):\n",
    "    model = SRGNN(config[\"hidden_dim\"], config[\"num_items\"])\n",
    "\n",
    "    device = \"cpu\"\n",
    "    if torch.cuda.is_available():\n",
    "        device = \"cuda:0\"\n",
    "        if torch.cuda.device_count() > 1:\n",
    "            model = nn.DataParallel(model)\n",
    "    model.to(device)\n",
    "\n",
    "    criterion = nn.CrossEntropyLoss()\n",
    "\n",
    "    optimizer = torch.optim.Adam(model.parameters(),\n",
    "                                 lr=config[\"lr\"],\n",
    "                                 weight_decay=config[\"l2_penalty\"])\n",
    "\n",
    "    scheduler = optim.lr_scheduler.StepLR(optimizer,\n",
    "                                          step_size=config[\"step\"],\n",
    "                                          gamma=config[\"weight_decay\"])\n",
    "    \n",
    "    train_dataset = GraphDataset('/home/ec2-user/SageMaker/sb-rec-system/algorithms/srgnn_benchmark/data/diginetica', 'train')\n",
    "\n",
    "\n",
    "    train_loader = pyg_data.DataLoader(train_dataset,\n",
    "                                       batch_size=config[\"batch_size\"],\n",
    "                                       shuffle=False,\n",
    "                                       drop_last=False)\n",
    "    \n",
    "    val_dataset = GraphDataset('/home/ec2-user/SageMaker/sb-rec-system/algorithms/srgnn_benchmark/data/diginetica', 'test')\n",
    "\n",
    "\n",
    "    val_loader = pyg_data.DataLoader(val_dataset,\n",
    "                                     batch_size=config[\"batch_size\"],\n",
    "                                     shuffle=False,\n",
    "                                     drop_last=False)\n",
    "    # Train\n",
    "    losses = []\n",
    "    test_accs = []\n",
    "    test_mrr = []\n",
    "    top_k_accs = []\n",
    "    top_k_mrrs = []\n",
    "\n",
    "    best_acc = 0\n",
    "    best_model = None\n",
    "\n",
    "    for epoch in range(config[\"epochs\"]):\n",
    "        total_loss = 0\n",
    "        model.train()\n",
    "        for _, batch in enumerate(tqdm(train_loader)):\n",
    "            batch.to('cpu')\n",
    "            optimizer.zero_grad()\n",
    "\n",
    "            pred = model(batch)\n",
    "            label = batch.y\n",
    "            loss = criterion(pred, label)\n",
    "\n",
    "            loss.backward()\n",
    "            optimizer.step()\n",
    "            total_loss += loss.item() * batch.num_graphs\n",
    "\n",
    "        total_loss /= len(train_loader.dataset)\n",
    "        losses.append(total_loss)\n",
    "\n",
    "        scheduler.step()\n",
    "\n",
    "    checkpoint_dir = '/home/ec2-user/SageMaker/sb-rec-system/algorithms/srgnn_benchmark/trained_models'\n",
    "    path = os.path.join(checkpoint_dir, f\"srgnn_diginetica\")\n",
    "    torch.save(model.state_dict(), path)"
   ]
  },
  {
   "cell_type": "code",
   "execution_count": 5,
   "id": "308d1ee5",
   "metadata": {},
   "outputs": [],
   "source": [
    "#best config settings from hyper param search\n",
    "config={\n",
    "    'l2_penalty': 1e-05, \n",
    "    'lr': 0.001, \n",
    "    'epochs': 10, \n",
    "    'batch_size': 100, \n",
    "    'hidden_dim': 100, \n",
    "    'step': 3, \n",
    "    'weight_decay': 0.1,\n",
    "    'num_items': 43098\n",
    "}"
   ]
  },
  {
   "cell_type": "code",
   "execution_count": null,
   "id": "ca859701",
   "metadata": {
    "scrolled": false
   },
   "outputs": [
    {
     "name": "stderr",
     "output_type": "stream",
     "text": [
      "/home/ec2-user/anaconda3/envs/python3/lib/python3.6/site-packages/torch_geometric/deprecation.py:13: UserWarning: 'data.DataLoader' is deprecated, use 'loader.DataLoader' instead\n",
      "  warnings.warn(out)\n",
      "  0%|          | 0/7195 [00:00<?, ?it/s]/home/ec2-user/anaconda3/envs/python3/lib/python3.6/site-packages/torch/nn/functional.py:1806: UserWarning: nn.functional.sigmoid is deprecated. Use torch.sigmoid instead.\n",
      "  warnings.warn(\"nn.functional.sigmoid is deprecated. Use torch.sigmoid instead.\")\n",
      "100%|██████████| 7195/7195 [18:49<00:00,  6.37it/s]\n",
      "100%|██████████| 7195/7195 [19:08<00:00,  6.26it/s]\n",
      "100%|██████████| 7195/7195 [19:10<00:00,  6.25it/s]\n",
      " 28%|██▊       | 1987/7195 [05:18<13:53,  6.25it/s]"
     ]
    }
   ],
   "source": [
    "train(config)"
   ]
  },
  {
   "cell_type": "code",
   "execution_count": 12,
   "id": "8e940c26",
   "metadata": {},
   "outputs": [
    {
     "name": "stderr",
     "output_type": "stream",
     "text": [
      "100%|██████████| 6476/6476 [13:29<00:00,  8.00it/s]  \n",
      "100%|██████████| 720/720 [00:51<00:00, 14.01it/s]\n"
     ]
    },
    {
     "name": "stdout",
     "output_type": "stream",
     "text": [
      "The MRR@20 : 0.10758342224228748 HitRate@20 : 0.22089871711120687\n",
      "Hitrate: 7.2972222222222225 MRR@: 0.10758342224228748\n"
     ]
    },
    {
     "name": "stderr",
     "output_type": "stream",
     "text": [
      "100%|██████████| 6476/6476 [12:40<00:00,  8.51it/s]\n",
      "100%|██████████| 720/720 [00:48<00:00, 14.95it/s]\n"
     ]
    },
    {
     "name": "stdout",
     "output_type": "stream",
     "text": [
      "The MRR@20 : 0.144104131637128 HitRate@20 : 0.39595813585000067\n",
      "Hitrate: 7.836111111111111 MRR@: 0.144104131637128\n"
     ]
    },
    {
     "name": "stderr",
     "output_type": "stream",
     "text": [
      "100%|██████████| 6476/6476 [13:46<00:00,  7.83it/s]\n",
      "100%|██████████| 720/720 [00:51<00:00, 13.88it/s]\n"
     ]
    },
    {
     "name": "stdout",
     "output_type": "stream",
     "text": [
      "The MRR@20 : 0.15828187828362825 HitRate@20 : 0.4603249614299415\n",
      "Hitrate: 8.169444444444444 MRR@: 0.15828187828362825\n"
     ]
    },
    {
     "name": "stderr",
     "output_type": "stream",
     "text": [
      "100%|██████████| 6476/6476 [12:42<00:00,  8.50it/s]\n",
      "100%|██████████| 720/720 [00:47<00:00, 15.10it/s]\n"
     ]
    },
    {
     "name": "stdout",
     "output_type": "stream",
     "text": [
      "The MRR@20 : 0.17476786447446596 HitRate@20 : 0.49070843815586473\n",
      "Hitrate: 9.219444444444445 MRR@: 0.17476786447446596\n"
     ]
    },
    {
     "name": "stderr",
     "output_type": "stream",
     "text": [
      "100%|██████████| 6476/6476 [13:48<00:00,  7.82it/s]\n",
      "100%|██████████| 720/720 [00:47<00:00, 15.01it/s]\n"
     ]
    },
    {
     "name": "stdout",
     "output_type": "stream",
     "text": [
      "The MRR@20 : 0.17661263768450902 HitRate@20 : 0.49839465161855256\n",
      "Hitrate: 9.229166666666666 MRR@: 0.17661263768450902\n"
     ]
    },
    {
     "name": "stderr",
     "output_type": "stream",
     "text": [
      "100%|██████████| 6476/6476 [12:41<00:00,  8.50it/s]\n",
      "100%|██████████| 720/720 [00:48<00:00, 14.74it/s]\n"
     ]
    },
    {
     "name": "stdout",
     "output_type": "stream",
     "text": [
      "The MRR@20 : 0.17770548721303406 HitRate@20 : 0.5025226903137031\n",
      "Hitrate: 9.258333333333333 MRR@: 0.17770548721303406\n"
     ]
    },
    {
     "name": "stderr",
     "output_type": "stream",
     "text": [
      "100%|██████████| 6476/6476 [13:42<00:00,  7.87it/s]\n",
      "100%|██████████| 720/720 [00:47<00:00, 15.17it/s]\n"
     ]
    },
    {
     "name": "stdout",
     "output_type": "stream",
     "text": [
      "The MRR@20 : 0.17882377840213695 HitRate@20 : 0.5034956287267016\n",
      "Hitrate: 9.330555555555556 MRR@: 0.17882377840213695\n"
     ]
    },
    {
     "name": "stderr",
     "output_type": "stream",
     "text": [
      "100%|██████████| 6476/6476 [12:37<00:00,  8.55it/s]\n",
      "100%|██████████| 720/720 [00:47<00:00, 15.05it/s]\n"
     ]
    },
    {
     "name": "stdout",
     "output_type": "stream",
     "text": [
      "The MRR@20 : 0.17922340279389015 HitRate@20 : 0.5041488873754292\n",
      "Hitrate: 9.3625 MRR@: 0.17922340279389015\n"
     ]
    },
    {
     "name": "stderr",
     "output_type": "stream",
     "text": [
      "100%|██████████| 6476/6476 [13:45<00:00,  7.84it/s]\n",
      "100%|██████████| 720/720 [00:47<00:00, 15.07it/s]\n"
     ]
    },
    {
     "name": "stdout",
     "output_type": "stream",
     "text": [
      "The MRR@20 : 0.1795110736514574 HitRate@20 : 0.5048994398654565\n",
      "Hitrate: 9.380555555555556 MRR@: 0.1795110736514574\n"
     ]
    },
    {
     "name": "stderr",
     "output_type": "stream",
     "text": [
      "100%|██████████| 6476/6476 [12:44<00:00,  8.47it/s]  \n",
      "100%|██████████| 720/720 [00:48<00:00, 14.82it/s]\n"
     ]
    },
    {
     "name": "stdout",
     "output_type": "stream",
     "text": [
      "The MRR@20 : 0.1794432088369832 HitRate@20 : 0.5050801284278705\n",
      "Hitrate: 9.368055555555555 MRR@: 0.1794432088369832\n",
      "test_accs : 9.380555555555556, top_k_accs : 0.5050801284278705, top_k_mrrs : 0.1794432088369832\n",
      "Maximum test set accuracy: 9.380555555555556\n",
      "Minimum loss: 4.726984682426485\n"
     ]
    },
    {
     "data": {
      "image/png": "[encoded data removed]",
      "text/plain": [
       "<Figure size 432x288 with 1 Axes>"
      ]
     },
     "metadata": {
      "needs_background": "light"
     },
     "output_type": "display_data"
    }
   ],
   "source": [
    "test_accs, top_k_accs, top_k_mrrs, losses, best_model, best_acc, test_loader = train(config) \n",
    "\n",
    "print(f'test_accs : {max(test_accs)}, top_k_accs : {max(top_k_accs)}, top_k_mrrs : {top_k_mrrs}')\n",
    "print(\"Maximum test set accuracy: {0}\".format(max(test_accs)))\n",
    "print(\"Minimum loss: {0}\".format(min(losses)))\n",
    "\n",
    "plt.plot(losses, label=\"training loss\" + \" - \")\n",
    "plt.plot(test_accs, label=\"test accuracy\" + \" - \")\n",
    "plt.legend()\n",
    "fig = plt.gcf()\n",
    "fig.savefig('train_loss_test_acc_diginetica.pdf')\n",
    "plt.show()"
   ]
  },
  {
   "cell_type": "code",
   "execution_count": 24,
   "id": "cc1082c1",
   "metadata": {},
   "outputs": [],
   "source": [
    "mrr20 = [0.10758342224228748, 0.144104131637128, 0.15828187828362825, 0.17476786447446596, 0.17661263768450902, 0.17770548721303406,  0.17882377840213695, 0.17922340279389015, 0.1795110736514574]\n",
    "hit20 = [0.22089871711120687,\n",
    " 0.39595813585000067,\n",
    " 0.4603249614299415,\n",
    " 0.49070843815586473,\n",
    " 0.49839465161855256,\n",
    " 0.5025226903137031,\n",
    " 0.5034956287267016,\n",
    " 0.5041488873754292,\n",
    " 0.5048994398654565,\n",
    " 0.5050801284278705]"
   ]
  },
  {
   "cell_type": "code",
   "execution_count": 28,
   "id": "b9951b1f",
   "metadata": {},
   "outputs": [
    {
     "data": {
      "image/png": "[encoded data removed]",
      "text/plain": [
       "<Figure size 432x288 with 1 Axes>"
      ]
     },
     "metadata": {
      "needs_background": "light"
     },
     "output_type": "display_data"
    }
   ],
   "source": [
    "plt.plot(mrr20, label=\"mrr@20\")\n",
    "plt.plot(hit20, label=\"hitRate@20\")\n",
    "plt.legend()\n",
    "plt.title('SR-GNN')\n",
    "f = plt.gcf()\n",
    "f.savefig(\"srgnn_mrr@20_hitrate@20_validation_set.pdf\")\n",
    "plt.show()"
   ]
  },
  {
   "cell_type": "code",
   "execution_count": 31,
   "id": "11b4dc7e",
   "metadata": {},
   "outputs": [
    {
     "data": {
      "image/png": "[encoded data removed]",
      "text/plain": [
       "<Figure size 432x288 with 1 Axes>"
      ]
     },
     "metadata": {
      "needs_background": "light"
     },
     "output_type": "display_data"
    }
   ],
   "source": [
    "plt.plot(losses, label=\"training loss\" + \" - \")\n",
    "plt.plot(test_accs, label=\"test accuracy\" + \" - \")\n",
    "plt.legend()\n",
    "plt.title('SR-GNN')\n",
    "f = plt.gcf()\n",
    "f.savefig(\"srgnn_training_loss_test_acc_validation_set.pdf\")\n",
    "plt.show()"
   ]
  }
 ],
 "metadata": {
  "kernelspec": {
   "display_name": "conda_python3",
   "language": "python",
   "name": "conda_python3"
  },
  "language_info": {
   "codemirror_mode": {
    "name": "ipython",
    "version": 3
   },
   "file_extension": ".py",
   "mimetype": "text/x-python",
   "name": "python",
   "nbconvert_exporter": "python",
   "pygments_lexer": "ipython3",
   "version": "3.6.13"
  }
 },
 "nbformat": 4,
 "nbformat_minor": 5
}
