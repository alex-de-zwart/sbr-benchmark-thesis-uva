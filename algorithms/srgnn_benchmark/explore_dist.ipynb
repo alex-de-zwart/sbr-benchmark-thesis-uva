{
 "cells": [
  {
   "cell_type": "code",
   "execution_count": 1,
   "id": "b30f22ff",
   "metadata": {},
   "outputs": [],
   "source": [
    "import pandas as pd\n",
    "import os\n",
    "from itertools import chain\n",
    "import matplotlib.pyplot as plt\n",
    "import seaborn as sns\n",
    "import numpy as np"
   ]
  },
  {
   "cell_type": "code",
   "execution_count": 2,
   "id": "a11f8e07",
   "metadata": {},
   "outputs": [],
   "source": [
    "path = os.getcwd()"
   ]
  },
  {
   "cell_type": "code",
   "execution_count": 17,
   "id": "2773e5bd",
   "metadata": {},
   "outputs": [],
   "source": [
    "srgnn = pd.read_csv(path + os.sep + \"srgnn/predictions/predictions_yoochoose1_64.txt\", sep=';', header=None, names=['predictions', 'actual'])\n",
    "light = pd.read_csv(path + os.sep + \"srgnn_light/predictions/predictions_yoochoose1_64.txt\", sep=';', header=None, names=['predictions', 'actual'])"
   ]
  },
  {
   "cell_type": "code",
   "execution_count": 18,
   "id": "b9d3a499",
   "metadata": {},
   "outputs": [],
   "source": [
    "items = []\n",
    "for i in srgnn.predictions:\n",
    "    items.append(i.split(','))"
   ]
  },
  {
   "cell_type": "code",
   "execution_count": 19,
   "id": "b4cdb555",
   "metadata": {},
   "outputs": [],
   "source": [
    "all_items_srgnn = list(chain(*items))\n",
    "all_items_srgnn = pd.DataFrame (all_items_srgnn, columns = ['ItemId'])\n",
    "all_items_srgnn = all_items_srgnn.sort_values(by='ItemId', ascending=False)"
   ]
  },
  {
   "cell_type": "code",
   "execution_count": 20,
   "id": "8f0d66f6",
   "metadata": {},
   "outputs": [],
   "source": [
    "items = []\n",
    "for i in light.predictions:\n",
    "    items.append(i.split(','))"
   ]
  },
  {
   "cell_type": "code",
   "execution_count": 21,
   "id": "6cc03c03",
   "metadata": {},
   "outputs": [],
   "source": [
    "all_items_srgnn_light = list(chain(*items))\n",
    "all_items_srgnn_light = pd.DataFrame (all_items_srgnn_light, columns = ['ItemId'])\n",
    "all_items_srgnn_light = all_items_srgnn_light.sort_values(by='ItemId', ascending=False)"
   ]
  },
  {
   "cell_type": "code",
   "execution_count": 8,
   "id": "7a710fce",
   "metadata": {},
   "outputs": [],
   "source": [
    "# all_items_srgnn_light = np.array(all_items_srgnn_light)\n",
    "# all_items_srgnn = np.array(all_items_srgnn)"
   ]
  },
  {
   "cell_type": "code",
   "execution_count": 84,
   "id": "2db06c04",
   "metadata": {},
   "outputs": [
    {
     "data": {
      "image/png": "[encoded data removed]",
      "text/plain": [
       "<Figure size 432x288 with 1 Axes>"
      ]
     },
     "metadata": {
      "needs_background": "light"
     },
     "output_type": "display_data"
    }
   ],
   "source": [
    "plt.hist(all_items_srgnn);\n",
    "plt.show()"
   ]
  },
  {
   "cell_type": "code",
   "execution_count": 85,
   "id": "699c7ab0",
   "metadata": {},
   "outputs": [
    {
     "data": {
      "image/png": "[encoded data removed]",
      "text/plain": [
       "<Figure size 432x288 with 1 Axes>"
      ]
     },
     "metadata": {
      "needs_background": "light"
     },
     "output_type": "display_data"
    }
   ],
   "source": [
    "plt.hist(all_items_srgnn_light);\n",
    "plt.show()"
   ]
  },
  {
   "cell_type": "code",
   "execution_count": 9,
   "id": "18eb6168",
   "metadata": {},
   "outputs": [],
   "source": [
    "import pickle"
   ]
  },
  {
   "cell_type": "code",
   "execution_count": 189,
   "id": "b21659ac",
   "metadata": {},
   "outputs": [],
   "source": [
    "data_dir = f'/home/ec2-user/SageMaker/sb-rec-system/algorithms/srgnn_benchmark/data/yoochoose1_64'\n",
    "\n",
    "\n",
    "train_data = pickle.load(open(data_dir + '/raw/all_train_seq.txt', 'rb'))\n",
    "lst = list(chain(*train_data))\n",
    "train_data = pd.DataFrame (lst, columns = ['ItemId'])\n",
    "train_data['ItemId'] = train_data.ItemId.astype(str)"
   ]
  },
  {
   "cell_type": "code",
   "execution_count": 196,
   "id": "a758fbdf",
   "metadata": {},
   "outputs": [
    {
     "data": {
      "text/plain": [
       "0.31537753222836096"
      ]
     },
     "execution_count": 196,
     "metadata": {},
     "output_type": "execute_result"
    }
   ],
   "source": [
    "all_items_srgnn.ItemId[all_items_srgnn.ItemId.isin(train_data.ItemId)].nunique() / train_data.ItemId.nunique()"
   ]
  },
  {
   "cell_type": "code",
   "execution_count": 195,
   "id": "c463410d",
   "metadata": {},
   "outputs": [
    {
     "data": {
      "text/plain": [
       "17376"
      ]
     },
     "execution_count": 195,
     "metadata": {},
     "output_type": "execute_result"
    }
   ],
   "source": []
  },
  {
   "cell_type": "code",
   "execution_count": 15,
   "id": "f2cd1551",
   "metadata": {},
   "outputs": [],
   "source": [
    "train = train_data.value_counts().reset_index(name='count')"
   ]
  },
  {
   "cell_type": "code",
   "execution_count": 25,
   "id": "c10e5677",
   "metadata": {},
   "outputs": [],
   "source": [
    "srgnn_light = all_items_srgnn_light.value_counts().reset_index(name='count')"
   ]
  },
  {
   "cell_type": "code",
   "execution_count": 26,
   "id": "0d4bf66c",
   "metadata": {},
   "outputs": [],
   "source": [
    "srgnn = all_items_srgnn.value_counts().reset_index(name='count')"
   ]
  },
  {
   "cell_type": "code",
   "execution_count": 61,
   "id": "1e7e1f20",
   "metadata": {},
   "outputs": [],
   "source": [
    "train['ItemId'] = train.ItemId.astype(str)"
   ]
  },
  {
   "cell_type": "code",
   "execution_count": 64,
   "id": "4b35048b",
   "metadata": {},
   "outputs": [],
   "source": [
    "temp = pd.merge(train, srgnn, on='ItemId', suffixes=('_train', '_srgnn'))"
   ]
  },
  {
   "cell_type": "code",
   "execution_count": 68,
   "id": "04b003fa",
   "metadata": {},
   "outputs": [],
   "source": [
    "fin = pd.merge(temp, srgnn_light, on='ItemId')"
   ]
  },
  {
   "cell_type": "code",
   "execution_count": 71,
   "id": "e0344795",
   "metadata": {},
   "outputs": [],
   "source": [
    "fin.sort_values(by='count_train', ascending=False, inplace=True)"
   ]
  },
  {
   "cell_type": "code",
   "execution_count": 86,
   "id": "60d5daaf",
   "metadata": {},
   "outputs": [],
   "source": [
    "fin[\"perc_srgnn\"] = fin.count_srgnn / fin.count_train"
   ]
  },
  {
   "cell_type": "code",
   "execution_count": 87,
   "id": "66849dfc",
   "metadata": {},
   "outputs": [],
   "source": [
    "fin[\"perc_srgnn_light\"] = fin[\"count\"] / fin.count_train"
   ]
  },
  {
   "cell_type": "code",
   "execution_count": 93,
   "id": "b90cb7aa",
   "metadata": {},
   "outputs": [],
   "source": [
    "dif = fin.perc_srgnn - fin.perc_srgnn_light"
   ]
  },
  {
   "cell_type": "code",
   "execution_count": 98,
   "id": "645b364e",
   "metadata": {},
   "outputs": [
    {
     "data": {
      "text/plain": [
       "range(0, 5193)"
      ]
     },
     "execution_count": 98,
     "metadata": {},
     "output_type": "execute_result"
    }
   ],
   "source": [
    "range(len(dif))"
   ]
  },
  {
   "cell_type": "code",
   "execution_count": 100,
   "id": "efc37fad",
   "metadata": {},
   "outputs": [],
   "source": [
    "x = [*range(0,5193, 1)]"
   ]
  },
  {
   "cell_type": "code",
   "execution_count": 101,
   "id": "6c070444",
   "metadata": {},
   "outputs": [
    {
     "data": {
      "text/plain": [
       "<AxesSubplot:>"
      ]
     },
     "execution_count": 101,
     "metadata": {},
     "output_type": "execute_result"
    },
    {
     "data": {
      "image/png": "[encoded data removed]",
      "text/plain": [
       "<Figure size 432x288 with 1 Axes>"
      ]
     },
     "metadata": {
      "needs_background": "light"
     },
     "output_type": "display_data"
    }
   ],
   "source": [
    "sns.barplot(y=dif, x=x)"
   ]
  },
  {
   "cell_type": "code",
   "execution_count": null,
   "id": "7d6beae9",
   "metadata": {},
   "outputs": [],
   "source": []
  },
  {
   "cell_type": "code",
   "execution_count": 90,
   "id": "ede512dc",
   "metadata": {},
   "outputs": [
    {
     "data": {
      "text/plain": [
       "4577.096237407155"
      ]
     },
     "execution_count": 90,
     "metadata": {},
     "output_type": "execute_result"
    }
   ],
   "source": [
    "sum(fin.perc_srgnn - fin.perc_srgnn_light)"
   ]
  },
  {
   "cell_type": "code",
   "execution_count": null,
   "id": "d66691d5",
   "metadata": {},
   "outputs": [],
   "source": [
    "df[cum_percent] = 100 * (df[‘column_name’].cumsum()/df[‘column_name’].sum()) "
   ]
  },
  {
   "cell_type": "code",
   "execution_count": 105,
   "id": "97814d6e",
   "metadata": {},
   "outputs": [],
   "source": [
    "tr = train_data.value_counts().reset_index(name='count')"
   ]
  },
  {
   "cell_type": "code",
   "execution_count": 106,
   "id": "b29347f5",
   "metadata": {},
   "outputs": [],
   "source": [
    "tr['cum_percent'] =  100 * (tr[\"count\"].cumsum()/tr[\"count\"].sum()) "
   ]
  },
  {
   "cell_type": "code",
   "execution_count": 115,
   "id": "fa5e0ba9",
   "metadata": {},
   "outputs": [
    {
     "data": {
      "text/plain": [
       "17376"
      ]
     },
     "execution_count": 115,
     "metadata": {},
     "output_type": "execute_result"
    }
   ],
   "source": [
    "tr.ItemId.nunique()"
   ]
  },
  {
   "cell_type": "code",
   "execution_count": 197,
   "id": "bbaa1e09",
   "metadata": {},
   "outputs": [
    {
     "data": {
      "text/plain": [
       "<AxesSubplot:>"
      ]
     },
     "execution_count": 197,
     "metadata": {},
     "output_type": "execute_result"
    },
    {
     "data": {
      "image/png": "[encoded data removed]",
      "text/plain": [
       "<Figure size 432x288 with 1 Axes>"
      ]
     },
     "metadata": {
      "needs_background": "light"
     },
     "output_type": "display_data"
    }
   ],
   "source": [
    "tr.cum_percent.plot()"
   ]
  },
  {
   "cell_type": "code",
   "execution_count": 198,
   "id": "092a41f9",
   "metadata": {},
   "outputs": [
    {
     "data": {
      "text/plain": [
       "<AxesSubplot:>"
      ]
     },
     "execution_count": 198,
     "metadata": {},
     "output_type": "execute_result"
    },
    {
     "data": {
      "image/png": "[encoded data removed]",
      "text/plain": [
       "<Figure size 432x288 with 1 Axes>"
      ]
     },
     "metadata": {
      "needs_background": "light"
     },
     "output_type": "display_data"
    }
   ],
   "source": [
    "tr_digi.cum_percent.plot()"
   ]
  },
  {
   "cell_type": "code",
   "execution_count": 205,
   "id": "46f8a03e",
   "metadata": {},
   "outputs": [
    {
     "data": {
      "text/plain": [
       "<AxesSubplot:>"
      ]
     },
     "execution_count": 205,
     "metadata": {},
     "output_type": "execute_result"
    },
    {
     "data": {
      "image/png": "[encoded data removed]",
      "text/plain": [
       "<Figure size 432x288 with 1 Axes>"
      ]
     },
     "metadata": {
      "needs_background": "light"
     },
     "output_type": "display_data"
    }
   ],
   "source": [
    "tr.cum_percent.plot()\n",
    "tr_digi.cum_percent.plot()"
   ]
  },
  {
   "cell_type": "code",
   "execution_count": 209,
   "id": "aed0620a",
   "metadata": {},
   "outputs": [
    {
     "data": {
      "image/png": "[encoded data removed]",
      "text/plain": [
       "<Figure size 432x288 with 1 Axes>"
      ]
     },
     "metadata": {
      "needs_background": "light"
     },
     "output_type": "display_data"
    }
   ],
   "source": [
    "fig,ax = plt.subplots()\n",
    "ax.plot(tr_digi.cum_percent)\n",
    "ax.plot(tr.cum_percent)\n",
    "ax.legend(['Diginetica', 'Yoochoose 1/64'])\n",
    "ax.set_xlabel(\"items\", fontsize = 14)\n",
    "ax.set_ylabel(\"cummulative percentage\",\n",
    "              fontsize=14)\n",
    "plt.show()"
   ]
  },
  {
   "cell_type": "code",
   "execution_count": 211,
   "id": "cf874349",
   "metadata": {},
   "outputs": [],
   "source": [
    "tr_digi.to_csv('diginetica_cummulative.csv',sep=';', index=0)"
   ]
  },
  {
   "cell_type": "code",
   "execution_count": 212,
   "id": "ebb8ed3d",
   "metadata": {},
   "outputs": [],
   "source": [
    "tr.to_csv('yoochoose_cummulative.csv',sep=';', index=0)"
   ]
  },
  {
   "cell_type": "code",
   "execution_count": 204,
   "id": "fc03dfb7",
   "metadata": {},
   "outputs": [
    {
     "data": {
      "image/png": "[encoded data removed]",
      "text/plain": [
       "<Figure size 432x288 with 2 Axes>"
      ]
     },
     "metadata": {
      "needs_background": "light"
     },
     "output_type": "display_data"
    }
   ],
   "source": [
    "# create figure and axis objects with subplots()\n",
    "fig,ax = plt.subplots()\n",
    "# make a plot\n",
    "ax.plot(tr_digi.cum_percent,\n",
    "        color=\"red\")\n",
    "# set x-axis label\n",
    "ax.set_xlabel(\"items\", fontsize = 14)\n",
    "# set y-axis label\n",
    "ax.set_ylabel(\"cummulative percentage\",\n",
    "              fontsize=14,color=\"red\")\n",
    "\n",
    "\n",
    "# twin object for two different y-axis on the sample plot\n",
    "ax2=ax.twinx()\n",
    "# make a plot with different y-axis using second axis object\n",
    "ax2.plot(tr.cum_percent,color=\"blue\")\n",
    "ax2.set_ylabel(\"cummulative percentage\",color=\"blue\",fontsize=14)\n",
    "plt.show()\n",
    "# save the plot as a file\n",
    "# fig.savefig('two_different_y_axis_for_single_python_plot_with_twinx.jpg',\n",
    "#             format='jpeg',\n",
    "#             dpi=100,\n",
    "#             bbox_inches='tight')"
   ]
  },
  {
   "cell_type": "code",
   "execution_count": 116,
   "id": "1e2232eb",
   "metadata": {},
   "outputs": [],
   "source": [
    "data_dir = f'/home/ec2-user/SageMaker/sb-rec-system/algorithms/srgnn_benchmark/data/diginetica'\n",
    "\n",
    "\n",
    "train_data = pickle.load(open(data_dir + '/raw/all_train_seq.txt', 'rb'))\n",
    "lst = list(chain(*train_data))\n",
    "train_data = pd.DataFrame (lst, columns = ['ItemId'])"
   ]
  },
  {
   "cell_type": "code",
   "execution_count": 118,
   "id": "88b989de",
   "metadata": {},
   "outputs": [],
   "source": [
    "tr_digi = train_data.value_counts().reset_index(name='count')"
   ]
  },
  {
   "cell_type": "code",
   "execution_count": 120,
   "id": "aea18f68",
   "metadata": {},
   "outputs": [],
   "source": [
    "tr_digi['cum_percent'] =  100 * (tr_digi[\"count\"].cumsum()/tr_digi[\"count\"].sum()) "
   ]
  },
  {
   "cell_type": "code",
   "execution_count": 131,
   "id": "bc399f48",
   "metadata": {},
   "outputs": [],
   "source": [
    "#postnl\n",
    "data_dir = '/home/ec2-user/SageMaker/sb-rec-system/data/prepared/srgnn/'\n"
   ]
  },
  {
   "cell_type": "code",
   "execution_count": 172,
   "id": "5829f6bb",
   "metadata": {},
   "outputs": [],
   "source": [
    "full_path = data_dir + r'item_views_tra_seqs.2.txt'\n",
    "train_data = pickle.load(open(full_path, 'rb'))\n",
    "lst = list(chain(*train_data))\n",
    "pnl_2 = pd.DataFrame (lst, columns = ['ItemId'])"
   ]
  },
  {
   "cell_type": "code",
   "execution_count": 173,
   "id": "3e95f46f",
   "metadata": {},
   "outputs": [],
   "source": [
    "pnl_2 = pnl_2.ItemId.value_counts().reset_index(name='count')"
   ]
  },
  {
   "cell_type": "code",
   "execution_count": 174,
   "id": "5f9e997c",
   "metadata": {},
   "outputs": [],
   "source": [
    "pnl_2['cum_percent'] =  100 * (pnl_2[\"count\"].cumsum()/pnl_2[\"count\"].sum()) "
   ]
  },
  {
   "cell_type": "code",
   "execution_count": 177,
   "id": "53425b2e",
   "metadata": {},
   "outputs": [
    {
     "data": {
      "text/plain": [
       "<AxesSubplot:>"
      ]
     },
     "execution_count": 177,
     "metadata": {},
     "output_type": "execute_result"
    },
    {
     "data": {
      "image/png": "[encoded data removed]",
      "text/plain": [
       "<Figure size 432x288 with 1 Axes>"
      ]
     },
     "metadata": {
      "needs_background": "light"
     },
     "output_type": "display_data"
    }
   ],
   "source": [
    "pnl_0.cum_percent.plot()\n",
    "pnl_1.cum_percent.plot()\n",
    "pnl_2.cum_percent.plot()"
   ]
  }
 ],
 "metadata": {
  "kernelspec": {
   "display_name": "conda_python3",
   "language": "python",
   "name": "conda_python3"
  },
  "language_info": {
   "codemirror_mode": {
    "name": "ipython",
    "version": 3
   },
   "file_extension": ".py",
   "mimetype": "text/x-python",
   "name": "python",
   "nbconvert_exporter": "python",
   "pygments_lexer": "ipython3",
   "version": "3.6.13"
  }
 },
 "nbformat": 4,
 "nbformat_minor": 5
}
